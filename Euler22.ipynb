{
  "nbformat": 4,
  "nbformat_minor": 0,
  "metadata": {
    "colab": {
      "name": "Euler22.ipynb",
      "provenance": [],
      "collapsed_sections": [],
      "toc_visible": true,
      "authorship_tag": "ABX9TyObyr4uOvvJEaEtZAaghZ+T",
      "include_colab_link": true
    },
    "kernelspec": {
      "name": "python3",
      "display_name": "Python 3"
    }
  },
  "cells": [
    {
      "cell_type": "markdown",
      "metadata": {
        "id": "view-in-github",
        "colab_type": "text"
      },
      "source": [
        "<a href=\"https://colab.research.google.com/github/joaovcandrade/Euler22/blob/master/Euler22.ipynb\" target=\"_parent\"><img src=\"https://colab.research.google.com/assets/colab-badge.svg\" alt=\"Open In Colab\"/></a>"
      ]
    },
    {
      "cell_type": "code",
      "metadata": {
        "id": "PxNKfP6lFlof",
        "colab_type": "code",
        "outputId": "ac64f177-1625-4407-f4b4-d2fe4adf90e8",
        "colab": {
          "base_uri": "https://localhost:8080/",
          "height": 34
        }
      },
      "source": [
        "def euler22():\n",
        "    file = open(\"./names.txt\", 'r')\n",
        "\n",
        "    text = file.read()\n",
        "    text = text.replace(\"\\\"\", \"\")\n",
        "    nomes =  text.split(\",\")\n",
        "    nomes.sort()\n",
        "\n",
        "    print(calcRanking(nomes))\n",
        "\n",
        "def posicaoAscii(w):\n",
        "  return ord(w) -64\n",
        "\n",
        "def calcRanking(nomes):\n",
        "  pos = 1\n",
        "  soma = 0\n",
        "\n",
        "  for n in nomes:    \n",
        "    chars = list(n)\n",
        "    somaChars = 0\n",
        "\n",
        "    for c in chars:\n",
        "      somaChars += posicaoAscii(c)\n",
        "\n",
        "    soma += somaChars*pos\n",
        "    pos += 1\n",
        "    somaChars = 0\n",
        "\n",
        "  return soma\n",
        "\n",
        "euler22()\n"
      ],
      "execution_count": 5,
      "outputs": [
        {
          "output_type": "stream",
          "text": [
            "871198282\n"
          ],
          "name": "stdout"
        }
      ]
    }
  ]
}