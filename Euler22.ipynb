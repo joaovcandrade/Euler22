{
  "nbformat": 4,
  "nbformat_minor": 0,
  "metadata": {
    "colab": {
      "name": "Euler22.ipynb",
      "provenance": [],
      "collapsed_sections": [],
      "toc_visible": true,
      "mount_file_id": "1gcYt-57CFSWLxbJvabnPbl7TPFBvym7I",
      "authorship_tag": "ABX9TyNXsXaqjAqQhTc1KD3xDp0I",
      "include_colab_link": true
    },
    "kernelspec": {
      "name": "python3",
      "display_name": "Python 3"
    }
  },
  "cells": [
    {
      "cell_type": "markdown",
      "metadata": {
        "id": "view-in-github",
        "colab_type": "text"
      },
      "source": [
        "<a href=\"https://colab.research.google.com/github/joaovcandrade/Euler22/blob/master/Euler22.ipynb\" target=\"_parent\"><img src=\"https://colab.research.google.com/assets/colab-badge.svg\" alt=\"Open In Colab\"/></a>"
      ]
    },
    {
      "cell_type": "code",
      "metadata": {
        "id": "kwMD1jV517ds",
        "colab_type": "code",
        "outputId": "8c5c2604-05f7-4b69-feff-eec5c50bffcc",
        "colab": {
          "base_uri": "https://localhost:8080/",
          "height": 34
        }
      },
      "source": [
        "euler22()"
      ],
      "execution_count": 0,
      "outputs": [
        {
          "output_type": "stream",
          "text": [
            "871198282\n"
          ],
          "name": "stdout"
        }
      ]
    },
    {
      "cell_type": "code",
      "metadata": {
        "id": "PxNKfP6lFlof",
        "colab_type": "code",
        "colab": {}
      },
      "source": [
        "def euler22():\n",
        "    file = open(\"/content/drive/My Drive/Colab Notebooks/Euler22/names.txt\", 'r')\n",
        "\n",
        "    text = file.read()\n",
        "    text = text.replace(\"\\\"\", \"\")\n",
        "    nomes =  text.split(\",\")\n",
        "    nomes.sort()\n",
        "\n",
        "    print(calcRanking(nomes))"
      ],
      "execution_count": 0,
      "outputs": []
    },
    {
      "cell_type": "code",
      "metadata": {
        "id": "MuxA6rMa45VD",
        "colab_type": "code",
        "colab": {}
      },
      "source": [
        "def posicaoAscii(w):\n",
        "  return ord(w) -64"
      ],
      "execution_count": 0,
      "outputs": []
    },
    {
      "cell_type": "code",
      "metadata": {
        "colab_type": "code",
        "id": "l0urZFPSB_Eg",
        "colab": {}
      },
      "source": [
        "def calcRanking(nomes):\n",
        "  pos = 1\n",
        "  soma = 0\n",
        "\n",
        "  for n in nomes:    \n",
        "    chars = list(n)\n",
        "    somaChars = 0\n",
        "\n",
        "    for c in chars:\n",
        "      somaChars += posicaoAscii(c)\n",
        "\n",
        "    soma += somaChars*pos\n",
        "    pos += 1\n",
        "    somaChars = 0\n",
        "\n",
        "  return soma\n",
        "\n",
        "\n"
      ],
      "execution_count": 0,
      "outputs": []
    }
  ]
}